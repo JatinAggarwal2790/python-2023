{
 "cells": [
  {
   "cell_type": "code",
   "execution_count": 1,
   "id": "4797117c",
   "metadata": {},
   "outputs": [],
   "source": [
    "import pandas as pd"
   ]
  },
  {
   "cell_type": "code",
   "execution_count": 2,
   "id": "715196d6",
   "metadata": {},
   "outputs": [],
   "source": [
    "import sqlite3"
   ]
  },
  {
   "cell_type": "code",
   "execution_count": 3,
   "id": "4a9f6a7b",
   "metadata": {},
   "outputs": [],
   "source": [
    "conn = sqlite3.connect(\"etldata.db\")"
   ]
  },
  {
   "cell_type": "code",
   "execution_count": 4,
   "id": "8aecdb6e",
   "metadata": {},
   "outputs": [],
   "source": [
    "df = pd.read_sql_query(\"select * from mydiamonds\",conn)"
   ]
  },
  {
   "cell_type": "code",
   "execution_count": 5,
   "id": "d6f00880",
   "metadata": {},
   "outputs": [
    {
     "data": {
      "text/plain": [
       "(5222, 11)"
      ]
     },
     "execution_count": 5,
     "metadata": {},
     "output_type": "execute_result"
    }
   ],
   "source": [
    "df.shape"
   ]
  },
  {
   "cell_type": "code",
   "execution_count": 6,
   "id": "b611cebf",
   "metadata": {},
   "outputs": [
    {
     "data": {
      "text/html": [
       "<div>\n",
       "<style scoped>\n",
       "    .dataframe tbody tr th:only-of-type {\n",
       "        vertical-align: middle;\n",
       "    }\n",
       "\n",
       "    .dataframe tbody tr th {\n",
       "        vertical-align: top;\n",
       "    }\n",
       "\n",
       "    .dataframe thead th {\n",
       "        text-align: right;\n",
       "    }\n",
       "</style>\n",
       "<table border=\"1\" class=\"dataframe\">\n",
       "  <thead>\n",
       "    <tr style=\"text-align: right;\">\n",
       "      <th></th>\n",
       "      <th>s</th>\n",
       "      <th>carat</th>\n",
       "      <th>cut</th>\n",
       "      <th>color</th>\n",
       "      <th>clarity</th>\n",
       "      <th>depth</th>\n",
       "      <th>table</th>\n",
       "      <th>x</th>\n",
       "      <th>y</th>\n",
       "      <th>z</th>\n",
       "      <th>priceINR</th>\n",
       "    </tr>\n",
       "  </thead>\n",
       "  <tbody>\n",
       "    <tr>\n",
       "      <th>0</th>\n",
       "      <td>21929</td>\n",
       "      <td>1.70</td>\n",
       "      <td>Ideal</td>\n",
       "      <td>J</td>\n",
       "      <td>VS2</td>\n",
       "      <td>60.5</td>\n",
       "      <td>58.0</td>\n",
       "      <td>7.73</td>\n",
       "      <td>7.74</td>\n",
       "      <td>4.68</td>\n",
       "      <td>790158</td>\n",
       "    </tr>\n",
       "    <tr>\n",
       "      <th>1</th>\n",
       "      <td>21930</td>\n",
       "      <td>1.03</td>\n",
       "      <td>Ideal</td>\n",
       "      <td>E</td>\n",
       "      <td>VVS2</td>\n",
       "      <td>60.6</td>\n",
       "      <td>59.0</td>\n",
       "      <td>6.50</td>\n",
       "      <td>6.53</td>\n",
       "      <td>3.95</td>\n",
       "      <td>790237</td>\n",
       "    </tr>\n",
       "    <tr>\n",
       "      <th>2</th>\n",
       "      <td>21931</td>\n",
       "      <td>1.23</td>\n",
       "      <td>Very Good</td>\n",
       "      <td>G</td>\n",
       "      <td>VVS2</td>\n",
       "      <td>60.6</td>\n",
       "      <td>55.0</td>\n",
       "      <td>6.93</td>\n",
       "      <td>7.02</td>\n",
       "      <td>4.23</td>\n",
       "      <td>790316</td>\n",
       "    </tr>\n",
       "    <tr>\n",
       "      <th>3</th>\n",
       "      <td>21932</td>\n",
       "      <td>1.25</td>\n",
       "      <td>Ideal</td>\n",
       "      <td>F</td>\n",
       "      <td>VS2</td>\n",
       "      <td>61.6</td>\n",
       "      <td>55.0</td>\n",
       "      <td>6.93</td>\n",
       "      <td>6.96</td>\n",
       "      <td>4.28</td>\n",
       "      <td>790474</td>\n",
       "    </tr>\n",
       "    <tr>\n",
       "      <th>4</th>\n",
       "      <td>21933</td>\n",
       "      <td>2.01</td>\n",
       "      <td>Very Good</td>\n",
       "      <td>I</td>\n",
       "      <td>SI2</td>\n",
       "      <td>61.4</td>\n",
       "      <td>63.0</td>\n",
       "      <td>8.19</td>\n",
       "      <td>7.96</td>\n",
       "      <td>4.96</td>\n",
       "      <td>790711</td>\n",
       "    </tr>\n",
       "  </tbody>\n",
       "</table>\n",
       "</div>"
      ],
      "text/plain": [
       "       s  carat        cut color clarity  depth  table     x     y     z  \\\n",
       "0  21929   1.70      Ideal     J     VS2   60.5   58.0  7.73  7.74  4.68   \n",
       "1  21930   1.03      Ideal     E    VVS2   60.6   59.0  6.50  6.53  3.95   \n",
       "2  21931   1.23  Very Good     G    VVS2   60.6   55.0  6.93  7.02  4.23   \n",
       "3  21932   1.25      Ideal     F     VS2   61.6   55.0  6.93  6.96  4.28   \n",
       "4  21933   2.01  Very Good     I     SI2   61.4   63.0  8.19  7.96  4.96   \n",
       "\n",
       "   priceINR  \n",
       "0    790158  \n",
       "1    790237  \n",
       "2    790316  \n",
       "3    790474  \n",
       "4    790711  "
      ]
     },
     "execution_count": 6,
     "metadata": {},
     "output_type": "execute_result"
    }
   ],
   "source": [
    "df.head()"
   ]
  },
  {
   "cell_type": "code",
   "execution_count": null,
   "id": "8b3940cc",
   "metadata": {},
   "outputs": [],
   "source": [
    "# transfrom the 'cut' to upper case"
   ]
  },
  {
   "cell_type": "code",
   "execution_count": 7,
   "id": "868a71b6",
   "metadata": {},
   "outputs": [],
   "source": [
    "df['cut'] = df.cut.apply(str.upper)"
   ]
  },
  {
   "cell_type": "code",
   "execution_count": 8,
   "id": "d1ee4b65",
   "metadata": {},
   "outputs": [
    {
     "data": {
      "text/html": [
       "<div>\n",
       "<style scoped>\n",
       "    .dataframe tbody tr th:only-of-type {\n",
       "        vertical-align: middle;\n",
       "    }\n",
       "\n",
       "    .dataframe tbody tr th {\n",
       "        vertical-align: top;\n",
       "    }\n",
       "\n",
       "    .dataframe thead th {\n",
       "        text-align: right;\n",
       "    }\n",
       "</style>\n",
       "<table border=\"1\" class=\"dataframe\">\n",
       "  <thead>\n",
       "    <tr style=\"text-align: right;\">\n",
       "      <th></th>\n",
       "      <th>s</th>\n",
       "      <th>carat</th>\n",
       "      <th>cut</th>\n",
       "      <th>color</th>\n",
       "      <th>clarity</th>\n",
       "      <th>depth</th>\n",
       "      <th>table</th>\n",
       "      <th>x</th>\n",
       "      <th>y</th>\n",
       "      <th>z</th>\n",
       "      <th>priceINR</th>\n",
       "    </tr>\n",
       "  </thead>\n",
       "  <tbody>\n",
       "    <tr>\n",
       "      <th>0</th>\n",
       "      <td>21929</td>\n",
       "      <td>1.70</td>\n",
       "      <td>IDEAL</td>\n",
       "      <td>J</td>\n",
       "      <td>VS2</td>\n",
       "      <td>60.5</td>\n",
       "      <td>58.0</td>\n",
       "      <td>7.73</td>\n",
       "      <td>7.74</td>\n",
       "      <td>4.68</td>\n",
       "      <td>790158</td>\n",
       "    </tr>\n",
       "    <tr>\n",
       "      <th>1</th>\n",
       "      <td>21930</td>\n",
       "      <td>1.03</td>\n",
       "      <td>IDEAL</td>\n",
       "      <td>E</td>\n",
       "      <td>VVS2</td>\n",
       "      <td>60.6</td>\n",
       "      <td>59.0</td>\n",
       "      <td>6.50</td>\n",
       "      <td>6.53</td>\n",
       "      <td>3.95</td>\n",
       "      <td>790237</td>\n",
       "    </tr>\n",
       "    <tr>\n",
       "      <th>2</th>\n",
       "      <td>21931</td>\n",
       "      <td>1.23</td>\n",
       "      <td>VERY GOOD</td>\n",
       "      <td>G</td>\n",
       "      <td>VVS2</td>\n",
       "      <td>60.6</td>\n",
       "      <td>55.0</td>\n",
       "      <td>6.93</td>\n",
       "      <td>7.02</td>\n",
       "      <td>4.23</td>\n",
       "      <td>790316</td>\n",
       "    </tr>\n",
       "    <tr>\n",
       "      <th>3</th>\n",
       "      <td>21932</td>\n",
       "      <td>1.25</td>\n",
       "      <td>IDEAL</td>\n",
       "      <td>F</td>\n",
       "      <td>VS2</td>\n",
       "      <td>61.6</td>\n",
       "      <td>55.0</td>\n",
       "      <td>6.93</td>\n",
       "      <td>6.96</td>\n",
       "      <td>4.28</td>\n",
       "      <td>790474</td>\n",
       "    </tr>\n",
       "    <tr>\n",
       "      <th>4</th>\n",
       "      <td>21933</td>\n",
       "      <td>2.01</td>\n",
       "      <td>VERY GOOD</td>\n",
       "      <td>I</td>\n",
       "      <td>SI2</td>\n",
       "      <td>61.4</td>\n",
       "      <td>63.0</td>\n",
       "      <td>8.19</td>\n",
       "      <td>7.96</td>\n",
       "      <td>4.96</td>\n",
       "      <td>790711</td>\n",
       "    </tr>\n",
       "  </tbody>\n",
       "</table>\n",
       "</div>"
      ],
      "text/plain": [
       "       s  carat        cut color clarity  depth  table     x     y     z  \\\n",
       "0  21929   1.70      IDEAL     J     VS2   60.5   58.0  7.73  7.74  4.68   \n",
       "1  21930   1.03      IDEAL     E    VVS2   60.6   59.0  6.50  6.53  3.95   \n",
       "2  21931   1.23  VERY GOOD     G    VVS2   60.6   55.0  6.93  7.02  4.23   \n",
       "3  21932   1.25      IDEAL     F     VS2   61.6   55.0  6.93  6.96  4.28   \n",
       "4  21933   2.01  VERY GOOD     I     SI2   61.4   63.0  8.19  7.96  4.96   \n",
       "\n",
       "   priceINR  \n",
       "0    790158  \n",
       "1    790237  \n",
       "2    790316  \n",
       "3    790474  \n",
       "4    790711  "
      ]
     },
     "execution_count": 8,
     "metadata": {},
     "output_type": "execute_result"
    }
   ],
   "source": [
    "df.head()"
   ]
  },
  {
   "cell_type": "code",
   "execution_count": null,
   "id": "a75e8ee8",
   "metadata": {},
   "outputs": [],
   "source": [
    "# save to csv"
   ]
  },
  {
   "cell_type": "code",
   "execution_count": 9,
   "id": "f64a03e3",
   "metadata": {},
   "outputs": [],
   "source": [
    "df.to_csv(\"mydiamonds.csv\", index=False)"
   ]
  },
  {
   "cell_type": "code",
   "execution_count": 10,
   "id": "54950d13",
   "metadata": {},
   "outputs": [],
   "source": [
    "conn.close()"
   ]
  },
  {
   "cell_type": "code",
   "execution_count": null,
   "id": "25467322",
   "metadata": {},
   "outputs": [],
   "source": []
  }
 ],
 "metadata": {
  "kernelspec": {
   "display_name": "Python 3 (ipykernel)",
   "language": "python",
   "name": "python3"
  },
  "language_info": {
   "codemirror_mode": {
    "name": "ipython",
    "version": 3
   },
   "file_extension": ".py",
   "mimetype": "text/x-python",
   "name": "python",
   "nbconvert_exporter": "python",
   "pygments_lexer": "ipython3",
   "version": "3.9.13"
  }
 },
 "nbformat": 4,
 "nbformat_minor": 5
}
