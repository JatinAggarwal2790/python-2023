{
 "cells": [
  {
   "cell_type": "code",
   "execution_count": 1,
   "id": "e32d81b0",
   "metadata": {},
   "outputs": [
    {
     "name": "stdout",
     "output_type": "stream",
     "text": [
      "enter  a number:12\n",
      "enter second number:56\n",
      "1256\n"
     ]
    }
   ],
   "source": [
    "a=input(\"enter  a number:\")\n",
    "b=input(\"enter second number:\")\n",
    "c=a+b\n",
    "print(c)"
   ]
  },
  {
   "cell_type": "code",
   "execution_count": 1,
   "id": "f89c02f3",
   "metadata": {},
   "outputs": [
    {
     "name": "stdout",
     "output_type": "stream",
     "text": [
      "           s  carat        cut color clarity  depth  table  price     x     y  \\\n",
      "0          1   0.23      Ideal     E     SI2   61.5   55.0    326  3.95  3.98   \n",
      "1          2   0.21    Premium     E     SI1   59.8   61.0    326  3.89  3.84   \n",
      "2          3   0.23       Good     E     VS1   56.9   65.0    327  4.05  4.07   \n",
      "3          4   0.29    Premium     I     VS2   62.4   58.0    334  4.20  4.23   \n",
      "4          5   0.31       Good     J     SI2   63.3   58.0    335  4.34  4.35   \n",
      "...      ...    ...        ...   ...     ...    ...    ...    ...   ...   ...   \n",
      "53935  53936   0.72      Ideal     D     SI1   60.8   57.0   2757  5.75  5.76   \n",
      "53936  53937   0.72       Good     D     SI1   63.1   55.0   2757  5.69  5.75   \n",
      "53937  53938   0.70  Very Good     D     SI1   62.8   60.0   2757  5.66  5.68   \n",
      "53938  53939   0.86    Premium     H     SI2   61.0   58.0   2757  6.15  6.12   \n",
      "53939  53940   0.75      Ideal     D     SI2   62.2   55.0   2757  5.83  5.87   \n",
      "\n",
      "          z  \n",
      "0      2.43  \n",
      "1      2.31  \n",
      "2      2.31  \n",
      "3      2.63  \n",
      "4      2.75  \n",
      "...     ...  \n",
      "53935  3.50  \n",
      "53936  3.61  \n",
      "53937  3.56  \n",
      "53938  3.74  \n",
      "53939  3.64  \n",
      "\n",
      "[53940 rows x 11 columns]\n"
     ]
    }
   ],
   "source": [
    "import pandas as pd\n",
    "df=pd.read_csv(\"diamonds.csv\")\n",
    "print(df)"
   ]
  },
  {
   "cell_type": "code",
   "execution_count": 2,
   "id": "5b5dd117",
   "metadata": {},
   "outputs": [],
   "source": [
    "import pandas as pd\n",
    "df1=pd.read_csv(\"loans-raw.csv\")\n"
   ]
  },
  {
   "cell_type": "code",
   "execution_count": 3,
   "id": "7d04bd15",
   "metadata": {},
   "outputs": [
    {
     "data": {
      "text/plain": [
       "(625, 13)"
      ]
     },
     "execution_count": 3,
     "metadata": {},
     "output_type": "execute_result"
    }
   ],
   "source": [
    "df1.shape"
   ]
  },
  {
   "cell_type": "code",
   "execution_count": null,
   "id": "2026db9d",
   "metadata": {},
   "outputs": [],
   "source": []
  }
 ],
 "metadata": {
  "kernelspec": {
   "display_name": "Python 3 (ipykernel)",
   "language": "python",
   "name": "python3"
  },
  "language_info": {
   "codemirror_mode": {
    "name": "ipython",
    "version": 3
   },
   "file_extension": ".py",
   "mimetype": "text/x-python",
   "name": "python",
   "nbconvert_exporter": "python",
   "pygments_lexer": "ipython3",
   "version": "3.9.13"
  }
 },
 "nbformat": 4,
 "nbformat_minor": 5
}
